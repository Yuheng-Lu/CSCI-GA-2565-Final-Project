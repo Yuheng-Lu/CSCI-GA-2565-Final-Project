{
 "cells": [
  {
   "cell_type": "code",
   "execution_count": 1,
   "id": "0188e885",
   "metadata": {},
   "outputs": [
    {
     "name": "stderr",
     "output_type": "stream",
     "text": [
      "[nltk_data] Downloading package stopwords to\n",
      "[nltk_data]     /Users/Yuheng_Lu/nltk_data...\n",
      "[nltk_data]   Package stopwords is already up-to-date!\n"
     ]
    },
    {
     "data": {
      "text/plain": [
       "True"
      ]
     },
     "execution_count": 1,
     "metadata": {},
     "output_type": "execute_result"
    }
   ],
   "source": [
    "import nltk\n",
    "import pandas as pd\n",
    "import string\n",
    "import tqdm\n",
    "\n",
    "from nltk.corpus import stopwords\n",
    "nltk.download('stopwords')"
   ]
  },
  {
   "cell_type": "markdown",
   "id": "289aaa19",
   "metadata": {},
   "source": [
    "## Load raw data"
   ]
  },
  {
   "cell_type": "code",
   "execution_count": 2,
   "id": "a3b6abb0",
   "metadata": {},
   "outputs": [],
   "source": [
    "reviews_df = pd.read_json(\"../data/raw/goodreads_reviews_spoiler.json.gz\", compression='infer', lines=True)"
   ]
  },
  {
   "cell_type": "code",
   "execution_count": 3,
   "id": "93f1c432",
   "metadata": {},
   "outputs": [
    {
     "data": {
      "text/plain": [
       "(1378033, 7)"
      ]
     },
     "execution_count": 3,
     "metadata": {},
     "output_type": "execute_result"
    }
   ],
   "source": [
    "reviews_df.shape"
   ]
  },
  {
   "cell_type": "code",
   "execution_count": 4,
   "id": "7d552ab8",
   "metadata": {},
   "outputs": [],
   "source": [
    "reviews_df = reviews_df.iloc[:400000] # the full dataset is too large, we take around 1/3 of the original dataset"
   ]
  },
  {
   "cell_type": "markdown",
   "id": "2c08cedc",
   "metadata": {},
   "source": [
    "## Preprocess raw data"
   ]
  },
  {
   "cell_type": "code",
   "execution_count": 5,
   "id": "c375ad6a",
   "metadata": {},
   "outputs": [
    {
     "name": "stderr",
     "output_type": "stream",
     "text": [
      "100%|████████████████████████████████████████████████████| 400000/400000 [2:01:44<00:00, 54.76it/s]\n"
     ]
    }
   ],
   "source": [
    "for index, review in tqdm.tqdm(reviews_df.iterrows(), total=reviews_df.shape[0]):\n",
    "    processed_sentences = []\n",
    "    for sentence in review.review_sentences:\n",
    "        processed_text = ''\n",
    "        for word in sentence[1].split():\n",
    "            clean_word = word.lower().translate(str.maketrans('', '', string.punctuation))\n",
    "            clean_word = clean_word.replace('“', '').replace('”', '').replace('’', '').replace('…', '').replace('—', '')\n",
    "            if clean_word not in stopwords.words('english'):\n",
    "                stemmed_word = nltk.PorterStemmer().stem(clean_word)\n",
    "                if stemmed_word:\n",
    "                    processed_text += stemmed_word + ' '\n",
    "        processed_sentences.append([sentence[0], processed_text.strip()])\n",
    "    reviews_df.at[index, 'review_sentences'] = processed_sentences"
   ]
  },
  {
   "cell_type": "markdown",
   "id": "1e0e8e04",
   "metadata": {},
   "source": [
    "## Data transformation"
   ]
  },
  {
   "cell_type": "code",
   "execution_count": 6,
   "id": "c235b7a8",
   "metadata": {},
   "outputs": [
    {
     "name": "stderr",
     "output_type": "stream",
     "text": [
      "100%|████████████████████████████████████████████████████| 400000/400000 [00:55<00:00, 7253.31it/s]\n"
     ]
    },
    {
     "data": {
      "text/html": [
       "<div>\n",
       "<style scoped>\n",
       "    .dataframe tbody tr th:only-of-type {\n",
       "        vertical-align: middle;\n",
       "    }\n",
       "\n",
       "    .dataframe tbody tr th {\n",
       "        vertical-align: top;\n",
       "    }\n",
       "\n",
       "    .dataframe thead th {\n",
       "        text-align: right;\n",
       "    }\n",
       "</style>\n",
       "<table border=\"1\" class=\"dataframe\">\n",
       "  <thead>\n",
       "    <tr style=\"text-align: right;\">\n",
       "      <th></th>\n",
       "      <th>Processed_Sentence</th>\n",
       "      <th>Is_Spoiler</th>\n",
       "    </tr>\n",
       "  </thead>\n",
       "  <tbody>\n",
       "    <tr>\n",
       "      <th>0</th>\n",
       "      <td>special book</td>\n",
       "      <td>0</td>\n",
       "    </tr>\n",
       "    <tr>\n",
       "      <th>1</th>\n",
       "      <td>start slow first third middl third start get i...</td>\n",
       "      <td>0</td>\n",
       "    </tr>\n",
       "    <tr>\n",
       "      <th>2</th>\n",
       "      <td>love good scienc fiction push think thing go</td>\n",
       "      <td>0</td>\n",
       "    </tr>\n",
       "    <tr>\n",
       "      <th>3</th>\n",
       "      <td>2015 hugo winner translat origin chines made i...</td>\n",
       "      <td>0</td>\n",
       "    </tr>\n",
       "    <tr>\n",
       "      <th>4</th>\n",
       "      <td>instanc intermix chines revolutionari histori ...</td>\n",
       "      <td>0</td>\n",
       "    </tr>\n",
       "  </tbody>\n",
       "</table>\n",
       "</div>"
      ],
      "text/plain": [
       "                                  Processed_Sentence  Is_Spoiler\n",
       "0                                       special book           0\n",
       "1  start slow first third middl third start get i...           0\n",
       "2       love good scienc fiction push think thing go           0\n",
       "3  2015 hugo winner translat origin chines made i...           0\n",
       "4  instanc intermix chines revolutionari histori ...           0"
      ]
     },
     "execution_count": 6,
     "metadata": {},
     "output_type": "execute_result"
    }
   ],
   "source": [
    "processed_sentences, spoiler_tags = [], []\n",
    "for index, review in tqdm.tqdm(reviews_df.iterrows(), total=reviews_df.shape[0]):\n",
    "    for i in range(len(review.review_sentences)):\n",
    "        processed_sentences.append(review.review_sentences[i][1])\n",
    "        spoiler_tags.append(review.review_sentences[i][0])\n",
    "review_context_df = pd.DataFrame({\n",
    "    \"Processed_Sentence\": processed_sentences,\n",
    "    \"Is_Spoiler\": spoiler_tags\n",
    "})\n",
    "review_context_df.head()"
   ]
  },
  {
   "cell_type": "markdown",
   "id": "a8b28bf5",
   "metadata": {},
   "source": [
    "## Save Processed Data"
   ]
  },
  {
   "cell_type": "code",
   "execution_count": 7,
   "id": "0b914948",
   "metadata": {},
   "outputs": [],
   "source": [
    "review_context_df.to_json(\"../data/processed/review_context_final.json.gz\", orient=\"records\", lines=True, compression=\"infer\")"
   ]
  },
  {
   "cell_type": "code",
   "execution_count": 2,
   "id": "14752a6a",
   "metadata": {},
   "outputs": [],
   "source": [
    "test = pd.read_json(\"../data/raw/goodreads_reviews_spoiler.json.gz\", compression='infer', lines=True)"
   ]
  },
  {
   "cell_type": "code",
   "execution_count": 3,
   "id": "31cfad70",
   "metadata": {},
   "outputs": [
    {
     "data": {
      "text/html": [
       "<div>\n",
       "<style scoped>\n",
       "    .dataframe tbody tr th:only-of-type {\n",
       "        vertical-align: middle;\n",
       "    }\n",
       "\n",
       "    .dataframe tbody tr th {\n",
       "        vertical-align: top;\n",
       "    }\n",
       "\n",
       "    .dataframe thead th {\n",
       "        text-align: right;\n",
       "    }\n",
       "</style>\n",
       "<table border=\"1\" class=\"dataframe\">\n",
       "  <thead>\n",
       "    <tr style=\"text-align: right;\">\n",
       "      <th></th>\n",
       "      <th>user_id</th>\n",
       "      <th>timestamp</th>\n",
       "      <th>review_sentences</th>\n",
       "      <th>rating</th>\n",
       "      <th>has_spoiler</th>\n",
       "      <th>book_id</th>\n",
       "      <th>review_id</th>\n",
       "    </tr>\n",
       "  </thead>\n",
       "  <tbody>\n",
       "    <tr>\n",
       "      <th>0</th>\n",
       "      <td>8842281e1d1347389f2ab93d60773d4d</td>\n",
       "      <td>2017-08-30</td>\n",
       "      <td>[[0, This is a special book.], [0, It started ...</td>\n",
       "      <td>5</td>\n",
       "      <td>True</td>\n",
       "      <td>18245960</td>\n",
       "      <td>dfdbb7b0eb5a7e4c26d59a937e2e5feb</td>\n",
       "    </tr>\n",
       "    <tr>\n",
       "      <th>1</th>\n",
       "      <td>8842281e1d1347389f2ab93d60773d4d</td>\n",
       "      <td>2017-03-22</td>\n",
       "      <td>[[0, Recommended by Don Katz.], [0, Avail for ...</td>\n",
       "      <td>3</td>\n",
       "      <td>False</td>\n",
       "      <td>16981</td>\n",
       "      <td>a5d2c3628987712d0e05c4f90798eb67</td>\n",
       "    </tr>\n",
       "    <tr>\n",
       "      <th>2</th>\n",
       "      <td>8842281e1d1347389f2ab93d60773d4d</td>\n",
       "      <td>2017-03-20</td>\n",
       "      <td>[[0, A fun, fast paced science fiction thrille...</td>\n",
       "      <td>3</td>\n",
       "      <td>True</td>\n",
       "      <td>28684704</td>\n",
       "      <td>2ede853b14dc4583f96cf5d120af636f</td>\n",
       "    </tr>\n",
       "    <tr>\n",
       "      <th>3</th>\n",
       "      <td>8842281e1d1347389f2ab93d60773d4d</td>\n",
       "      <td>2016-11-09</td>\n",
       "      <td>[[0, Recommended reading to understand what is...</td>\n",
       "      <td>0</td>\n",
       "      <td>False</td>\n",
       "      <td>27161156</td>\n",
       "      <td>ced5675e55cd9d38a524743f5c40996e</td>\n",
       "    </tr>\n",
       "    <tr>\n",
       "      <th>4</th>\n",
       "      <td>8842281e1d1347389f2ab93d60773d4d</td>\n",
       "      <td>2016-04-25</td>\n",
       "      <td>[[0, I really enjoyed this book, and there is ...</td>\n",
       "      <td>4</td>\n",
       "      <td>True</td>\n",
       "      <td>25884323</td>\n",
       "      <td>332732725863131279a8e345b63ac33e</td>\n",
       "    </tr>\n",
       "  </tbody>\n",
       "</table>\n",
       "</div>"
      ],
      "text/plain": [
       "                            user_id  timestamp  \\\n",
       "0  8842281e1d1347389f2ab93d60773d4d 2017-08-30   \n",
       "1  8842281e1d1347389f2ab93d60773d4d 2017-03-22   \n",
       "2  8842281e1d1347389f2ab93d60773d4d 2017-03-20   \n",
       "3  8842281e1d1347389f2ab93d60773d4d 2016-11-09   \n",
       "4  8842281e1d1347389f2ab93d60773d4d 2016-04-25   \n",
       "\n",
       "                                    review_sentences  rating  has_spoiler  \\\n",
       "0  [[0, This is a special book.], [0, It started ...       5         True   \n",
       "1  [[0, Recommended by Don Katz.], [0, Avail for ...       3        False   \n",
       "2  [[0, A fun, fast paced science fiction thrille...       3         True   \n",
       "3  [[0, Recommended reading to understand what is...       0        False   \n",
       "4  [[0, I really enjoyed this book, and there is ...       4         True   \n",
       "\n",
       "    book_id                         review_id  \n",
       "0  18245960  dfdbb7b0eb5a7e4c26d59a937e2e5feb  \n",
       "1     16981  a5d2c3628987712d0e05c4f90798eb67  \n",
       "2  28684704  2ede853b14dc4583f96cf5d120af636f  \n",
       "3  27161156  ced5675e55cd9d38a524743f5c40996e  \n",
       "4  25884323  332732725863131279a8e345b63ac33e  "
      ]
     },
     "execution_count": 3,
     "metadata": {},
     "output_type": "execute_result"
    }
   ],
   "source": [
    "test.head()"
   ]
  }
 ],
 "metadata": {
  "kernelspec": {
   "display_name": "Python 3 (ipykernel)",
   "language": "python",
   "name": "python3"
  },
  "language_info": {
   "codemirror_mode": {
    "name": "ipython",
    "version": 3
   },
   "file_extension": ".py",
   "mimetype": "text/x-python",
   "name": "python",
   "nbconvert_exporter": "python",
   "pygments_lexer": "ipython3",
   "version": "3.11.9"
  }
 },
 "nbformat": 4,
 "nbformat_minor": 5
}
